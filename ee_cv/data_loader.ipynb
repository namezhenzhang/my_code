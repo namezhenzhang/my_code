{
 "cells": [
  {
   "cell_type": "code",
   "execution_count": null,
   "source": [
    "import os\r\n",
    "import h5py\r\n",
    "import numpy as np\r\n",
    "import cv2"
   ],
   "outputs": [],
   "metadata": {}
  },
  {
   "cell_type": "code",
   "execution_count": null,
   "source": [
    "gender_dict={}\r\n",
    "with open(\"male_names.txt\",\"r\",encoding=\"utf-8\") as f:\r\n",
    "    for userline in f:\r\n",
    "        userline=str(userline).replace('\\n','')\r\n",
    "        gender_dict[userline] = 1\r\n",
    "with open(\"female_names.txt\",\"r\",encoding=\"utf-8\") as f:\r\n",
    "    for userline in f:\r\n",
    "        userline=str(userline).replace('\\n','')\r\n",
    "        gender_dict[userline] = 0\r\n",
    "def jpg2hdf5(path,fi,f):\r\n",
    "    if cv2.imread(path) is None:\r\n",
    "        print(path,\"is not a picture.\")\r\n",
    "        return\r\n",
    "    dset=f.create_dataset(name = fi, data = cv2.imread(path))\r\n",
    "    if fi in gender_dict.keys():\r\n",
    "        dset.attrs['gender'] = gender_dict[fi]\r\n",
    "    else:\r\n",
    "        dset.attrs['gender'] = 2"
   ],
   "outputs": [],
   "metadata": {}
  },
  {
   "cell_type": "code",
   "execution_count": null,
   "source": [
    "def gci(filepath,f):\r\n",
    "#遍历filepath下所有文件，包括子目录\r\n",
    "  files = os.listdir(filepath)\r\n",
    "  for fi in files:\r\n",
    "    fi_d = os.path.join(filepath,fi)\r\n",
    "    #isdir和isfile参数必须跟绝对路径\r\n",
    "    if os.path.isdir(fi_d):\r\n",
    "      gci(fi_d,f)\r\n",
    "    else:\r\n",
    "      jpg2hdf5(os.path.relpath(os.path.join(filepath,fi)),fi,f)\r\n",
    "      \r\n",
    "      \r\n",
    "def gci_count(filepath):\r\n",
    "#遍历filepath下所有文件，包括子目录\r\n",
    "  this_count = 0\r\n",
    "  files = os.listdir(filepath)\r\n",
    "  for fi in files:\r\n",
    "    fi_d = os.path.join(filepath,fi)\r\n",
    "    #isdir和isfile参数必须跟绝对路径\r\n",
    "    if os.path.isdir(fi_d):\r\n",
    "      this_count += gci_count(fi_d)\r\n",
    "    else:\r\n",
    "      this_count+=1\r\n",
    "  return this_count"
   ],
   "outputs": [],
   "metadata": {}
  },
  {
   "cell_type": "code",
   "execution_count": null,
   "source": [
    "dirname = 'lfw_funneled'\r\n",
    "#img_num = gci_count(dirname)\r\n",
    "f = h5py.File(\"data.hdf5\", \"w\")\r\n",
    "gci(dirname,f)\r\n",
    "f.close()"
   ],
   "outputs": [],
   "metadata": {}
  },
  {
   "cell_type": "code",
   "execution_count": null,
   "source": [
    "f = h5py.File('data.hdf5','r')   #打开h5文件  \r\n",
    "\r\n",
    "for i in list(f.keys())[0:100]:\r\n",
    "    print(f[i])\r\n",
    "\r\n",
    "\r\n",
    "f.close()"
   ],
   "outputs": [],
   "metadata": {}
  },
  {
   "cell_type": "markdown",
   "source": [],
   "metadata": {}
  },
  {
   "cell_type": "code",
   "execution_count": null,
   "source": [
    "f = h5py.File('data.hdf5','r')   #打开h5文件  \r\n",
    "print(f[list(f.keys())[1]][:].shape)\r\n",
    "\r\n",
    "list(f.keys())[1]\r\n",
    "f[list(f.keys())[1]].attrs['gender']"
   ],
   "outputs": [],
   "metadata": {}
  },
  {
   "cell_type": "code",
   "execution_count": null,
   "source": [
    "cv2.imwrite('messigray.jpg',f[list(f.keys())[1]][:])"
   ],
   "outputs": [],
   "metadata": {}
  },
  {
   "cell_type": "code",
   "execution_count": null,
   "source": [
    "cv2.imshow( \"name\",f[list(f.keys())[1]][:])"
   ],
   "outputs": [],
   "metadata": {}
  },
  {
   "cell_type": "code",
   "execution_count": null,
   "source": [
    "def adddata(path,fi,dataset):\r\n",
    "    if cv2.imread(path) is None:\r\n",
    "        print(path,\"is not a picture.\")\r\n",
    "        return\r\n",
    "    gender = 2\r\n",
    "    if fi in gender_dict.keys():\r\n",
    "      gender = gender_dict[fi]\r\n",
    "    data = {}\r\n",
    "    data[\"data\"] = cv2.imread(path)\r\n",
    "    data[\"label\"] = gender\r\n",
    "    dataset.append(data)\r\n",
    "def loaddata(filepath,dataset):\r\n",
    "    #遍历filepath下所有文件，包括子目录\r\n",
    "  files = os.listdir(filepath)\r\n",
    "  for fi in files:\r\n",
    "    fi_d = os.path.join(filepath,fi)\r\n",
    "    #isdir和isfile参数必须跟绝对路径\r\n",
    "    if os.path.isdir(fi_d):\r\n",
    "      loaddata(fi_d,dataset)\r\n",
    "    else:\r\n",
    "      adddata(os.path.relpath(os.path.join(filepath,fi)),fi,dataset)\r\n"
   ],
   "outputs": [],
   "metadata": {}
  },
  {
   "cell_type": "code",
   "execution_count": null,
   "source": [
    "dataset=[]\r\n",
    "loaddata('lfw_funneled',dataset)"
   ],
   "outputs": [],
   "metadata": {}
  },
  {
   "cell_type": "code",
   "execution_count": null,
   "source": [
    "# import json\r\n",
    "# filename='data.json'\r\n",
    "# with open(filename,'w') as file_obj:\r\n",
    "#     json.dump(dataset,file_obj)"
   ],
   "outputs": [],
   "metadata": {}
  },
  {
   "cell_type": "code",
   "execution_count": null,
   "source": [
    "import pandas as pd\r\n",
    "name = ['data','label']\r\n",
    "test=pd.DataFrame(columns=name,data=dataset)"
   ],
   "outputs": [],
   "metadata": {}
  },
  {
   "cell_type": "code",
   "execution_count": null,
   "source": [
    "test.to_csv('testcsv.csv',encoding='utf-8')"
   ],
   "outputs": [],
   "metadata": {}
  },
  {
   "cell_type": "code",
   "execution_count": null,
   "source": [
    "gci('lfw_funneled')"
   ],
   "outputs": [],
   "metadata": {}
  },
  {
   "cell_type": "code",
   "execution_count": 4,
   "source": [
    "def gci_count(filepath):\r\n",
    "#遍历filepath下所有文件，包括子目录\r\n",
    "  this_count = 0\r\n",
    "  files = os.listdir(filepath)\r\n",
    "  for fi in files:\r\n",
    "    fi_d = os.path.join(filepath,fi)\r\n",
    "    #isdir和isfile参数必须跟绝对路径\r\n",
    "    if os.path.isdir(fi_d):\r\n",
    "      this_count += gci_count(fi_d)\r\n",
    "    else:\r\n",
    "      this_count+=1\r\n",
    "  return this_count\r\n",
    "gci_count('dataset')"
   ],
   "outputs": [],
   "metadata": {}
  },
  {
   "cell_type": "code",
   "execution_count": null,
   "source": [],
   "outputs": [],
   "metadata": {}
  },
  {
   "cell_type": "code",
   "execution_count": 1,
   "source": [
    "import os\r\n",
    "import h5py\r\n",
    "import numpy as np\r\n",
    "import cv2\r\n",
    "import re\r\n",
    "import random\r\n",
    "gender_dict={}\r\n",
    "with open(\"male_names.txt\",\"r\",encoding=\"utf-8\") as f:\r\n",
    "    for userline in f:\r\n",
    "        userline=str(userline).replace('\\n','')\r\n",
    "        gender_dict[userline] = 1\r\n",
    "with open(\"female_names.txt\",\"r\",encoding=\"utf-8\") as f:\r\n",
    "    for userline in f:\r\n",
    "        userline=str(userline).replace('\\n','')\r\n",
    "        gender_dict[userline] = 0\r\n",
    "\r\n",
    "def saveinone(path,fi):\r\n",
    "    if cv2.imread(path) is None:\r\n",
    "        print(path,\"is not a picture.\")\r\n",
    "        return\r\n",
    "    if fi in gender_dict.keys():\r\n",
    "      p = random.random()\r\n",
    "      dir = ''\r\n",
    "      if 0<=p<0.5:\r\n",
    "        dir = 'train'\r\n",
    "      elif 0.5<=p<0.9:\r\n",
    "        dir ='test'\r\n",
    "      else:\r\n",
    "        dir ='valid'\r\n",
    "      cv2.imwrite(r\"C:\\Users\\Zz\\Desktop\\cv\\dataset1\\{}\\{}\\{}\".format(dir,gender_dict[fi],fi), cv2.imread(path))\r\n",
    "\r\n",
    "def gci(filepath):\r\n",
    "#遍历filepath下所有文件，包括子目录\r\n",
    "  files = os.listdir(filepath)\r\n",
    "  for fi in files:\r\n",
    "    fi_d = os.path.join(filepath,fi)\r\n",
    "    #isdir和isfile参数必须跟绝对路径\r\n",
    "    if os.path.isdir(fi_d):\r\n",
    "      gci(fi_d)\r\n",
    "    else:\r\n",
    "      saveinone(os.path.relpath(os.path.join(filepath,fi)),fi)\r\n",
    "gci('dataset')"
   ],
   "outputs": [
    {
     "output_type": "error",
     "ename": "KeyboardInterrupt",
     "evalue": "",
     "traceback": [
      "\u001b[1;31m---------------------------------------------------------------------------\u001b[0m",
      "\u001b[1;31mKeyboardInterrupt\u001b[0m                         Traceback (most recent call last)",
      "\u001b[1;32m<ipython-input-1-014c47c2b868>\u001b[0m in \u001b[0;36m<module>\u001b[1;34m\u001b[0m\n\u001b[0;32m     30\u001b[0m     \u001b[1;32melse\u001b[0m\u001b[1;33m:\u001b[0m\u001b[1;33m\u001b[0m\u001b[1;33m\u001b[0m\u001b[0m\n\u001b[0;32m     31\u001b[0m       \u001b[0msaveinone\u001b[0m\u001b[1;33m(\u001b[0m\u001b[0mos\u001b[0m\u001b[1;33m.\u001b[0m\u001b[0mpath\u001b[0m\u001b[1;33m.\u001b[0m\u001b[0mrelpath\u001b[0m\u001b[1;33m(\u001b[0m\u001b[0mos\u001b[0m\u001b[1;33m.\u001b[0m\u001b[0mpath\u001b[0m\u001b[1;33m.\u001b[0m\u001b[0mjoin\u001b[0m\u001b[1;33m(\u001b[0m\u001b[0mfilepath\u001b[0m\u001b[1;33m,\u001b[0m\u001b[0mfi\u001b[0m\u001b[1;33m)\u001b[0m\u001b[1;33m)\u001b[0m\u001b[1;33m,\u001b[0m\u001b[0mfi\u001b[0m\u001b[1;33m)\u001b[0m\u001b[1;33m\u001b[0m\u001b[1;33m\u001b[0m\u001b[0m\n\u001b[1;32m---> 32\u001b[1;33m \u001b[0mgci\u001b[0m\u001b[1;33m(\u001b[0m\u001b[1;34m'dataset'\u001b[0m\u001b[1;33m)\u001b[0m\u001b[1;33m\u001b[0m\u001b[1;33m\u001b[0m\u001b[0m\n\u001b[0m",
      "\u001b[1;32m<ipython-input-1-014c47c2b868>\u001b[0m in \u001b[0;36mgci\u001b[1;34m(filepath)\u001b[0m\n\u001b[0;32m     29\u001b[0m       \u001b[0mgci\u001b[0m\u001b[1;33m(\u001b[0m\u001b[0mfi_d\u001b[0m\u001b[1;33m)\u001b[0m\u001b[1;33m\u001b[0m\u001b[1;33m\u001b[0m\u001b[0m\n\u001b[0;32m     30\u001b[0m     \u001b[1;32melse\u001b[0m\u001b[1;33m:\u001b[0m\u001b[1;33m\u001b[0m\u001b[1;33m\u001b[0m\u001b[0m\n\u001b[1;32m---> 31\u001b[1;33m       \u001b[0msaveinone\u001b[0m\u001b[1;33m(\u001b[0m\u001b[0mos\u001b[0m\u001b[1;33m.\u001b[0m\u001b[0mpath\u001b[0m\u001b[1;33m.\u001b[0m\u001b[0mrelpath\u001b[0m\u001b[1;33m(\u001b[0m\u001b[0mos\u001b[0m\u001b[1;33m.\u001b[0m\u001b[0mpath\u001b[0m\u001b[1;33m.\u001b[0m\u001b[0mjoin\u001b[0m\u001b[1;33m(\u001b[0m\u001b[0mfilepath\u001b[0m\u001b[1;33m,\u001b[0m\u001b[0mfi\u001b[0m\u001b[1;33m)\u001b[0m\u001b[1;33m)\u001b[0m\u001b[1;33m,\u001b[0m\u001b[0mfi\u001b[0m\u001b[1;33m)\u001b[0m\u001b[1;33m\u001b[0m\u001b[1;33m\u001b[0m\u001b[0m\n\u001b[0m\u001b[0;32m     32\u001b[0m \u001b[0mgci\u001b[0m\u001b[1;33m(\u001b[0m\u001b[1;34m'dataset'\u001b[0m\u001b[1;33m)\u001b[0m\u001b[1;33m\u001b[0m\u001b[1;33m\u001b[0m\u001b[0m\n",
      "\u001b[1;32m<ipython-input-1-014c47c2b868>\u001b[0m in \u001b[0;36msaveinone\u001b[1;34m(path, fi)\u001b[0m\n\u001b[0;32m     15\u001b[0m \u001b[1;33m\u001b[0m\u001b[0m\n\u001b[0;32m     16\u001b[0m \u001b[1;32mdef\u001b[0m \u001b[0msaveinone\u001b[0m\u001b[1;33m(\u001b[0m\u001b[0mpath\u001b[0m\u001b[1;33m,\u001b[0m\u001b[0mfi\u001b[0m\u001b[1;33m)\u001b[0m\u001b[1;33m:\u001b[0m\u001b[1;33m\u001b[0m\u001b[1;33m\u001b[0m\u001b[0m\n\u001b[1;32m---> 17\u001b[1;33m     \u001b[1;32mif\u001b[0m \u001b[0mcv2\u001b[0m\u001b[1;33m.\u001b[0m\u001b[0mimread\u001b[0m\u001b[1;33m(\u001b[0m\u001b[0mpath\u001b[0m\u001b[1;33m)\u001b[0m \u001b[1;32mis\u001b[0m \u001b[1;32mNone\u001b[0m\u001b[1;33m:\u001b[0m\u001b[1;33m\u001b[0m\u001b[1;33m\u001b[0m\u001b[0m\n\u001b[0m\u001b[0;32m     18\u001b[0m         \u001b[0mprint\u001b[0m\u001b[1;33m(\u001b[0m\u001b[0mpath\u001b[0m\u001b[1;33m,\u001b[0m\u001b[1;34m\"is not a picture.\"\u001b[0m\u001b[1;33m)\u001b[0m\u001b[1;33m\u001b[0m\u001b[1;33m\u001b[0m\u001b[0m\n\u001b[0;32m     19\u001b[0m         \u001b[1;32mreturn\u001b[0m\u001b[1;33m\u001b[0m\u001b[1;33m\u001b[0m\u001b[0m\n",
      "\u001b[1;31mKeyboardInterrupt\u001b[0m: "
     ]
    }
   ],
   "metadata": {}
  },
  {
   "cell_type": "code",
   "execution_count": null,
   "source": [],
   "outputs": [],
   "metadata": {}
  }
 ],
 "metadata": {
  "orig_nbformat": 4,
  "language_info": {
   "name": "python"
  }
 },
 "nbformat": 4,
 "nbformat_minor": 2
}